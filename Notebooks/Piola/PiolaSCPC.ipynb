{
 "cells": [
  {
   "cell_type": "markdown",
   "metadata": {},
   "source": [
    "## The mixed Poisson Problem\n",
    "We consider the primal form of the Poisson equation:  Find $u$ satisfying\n",
    "\n",
    "$$\n",
    "\\begin{align}\n",
    "\\nabla^2 u &= -f \\quad\\text{in $\\Omega$} \\\\\n",
    "   u &= u_0 \\quad\\text{on $\\Gamma_D$}\\\\\n",
    "   \\nabla u \\cdot n &= g \\quad\\text{on $\\Gamma_N$.}\n",
    "   \\end{align}$$\n",
    "   \n",
    "We obtain the dual form by introducing a vector-valued flux $\\sigma = \\nabla u$.  Substituting, the problem becomes.  Find $(\\sigma, u)$ satisfying\n",
    "\n",
    "$$\n",
    "\\begin{align}\n",
    "\\sigma - \\nabla u &= 0 \\quad \\text{in $\\Omega$} \\\\\n",
    "\\nabla \\cdot \\sigma &= -f \\quad \\text{in $\\Omega$} \\\\\n",
    "u &= u_0 \\quad \\text{on $\\Gamma_D$}\\\\\n",
    "\\sigma \\cdot n &= g \\quad\\text{on $\\Gamma \\setminus \\Gamma_D =: \\Gamma_N$.}\n",
    "\\end{align}\n",
    "  $$\n",
    "  \n",
    "For the variational formulation, we introduce a pair of function spaces, $\\Sigma$ and $V$, and seek $(\\sigma, u) \\in \\Sigma \\times V$ such that:\n",
    "\n",
    "$$\n",
    "\\begin{align}\n",
    "\\int_\\Omega (\\sigma \\cdot \\tau + \\nabla \\cdot \\tau u)\\,\\text{d} x &= \n",
    "  \\int_\\Gamma \\tau \\cdot n u\\,\\text{d}s \\quad \\forall \\tau \\in \\Sigma\\\\ \n",
    "\\int_\\Omega (\\nabla\\cdot\\sigma)v\\,\\text{d} x &= - \\int_\\Omega f v\\,\\text{d}x \n",
    "\\quad \\forall v \\in V.\n",
    "\\end{align}\n",
    "$$\n",
    "\n",
    "Notice how the weak condition in the primal form turns into a strong condition on the auxiliary variable $\\sigma$ and the strong condition on $u$ in the primal form appears as a weak condition on $\\sigma$.\n",
    "\n",
    "For this problem we will solve with homogeneous Dirichlet (strong) conditions $u_0 = 0$ on the boundary of a rectangle domain $\\Omega = [0, 2]\\times[0,1]$, and will choose $f = 10\\exp(-100((x-1)^2 + (y-0.5)^2))$. Later we consider a terrain following mesh."
   ]
  },
  {
   "cell_type": "code",
   "execution_count": 1,
   "metadata": {},
   "outputs": [],
   "source": [
    "import matplotlib.pyplot as plt\n",
    "from firedrake import *"
   ]
  },
  {
   "cell_type": "markdown",
   "metadata": {},
   "source": [
    "### 1.) Building terrain following mesh"
   ]
  },
  {
   "cell_type": "code",
   "execution_count": 2,
   "metadata": {
    "scrolled": false
   },
   "outputs": [
    {
     "data": {
      "text/plain": [
       "<matplotlib.collections.PathCollection at 0x7fc355cd3c88>"
      ]
     },
     "execution_count": 2,
     "metadata": {},
     "output_type": "execute_result"
    },
    {
     "data": {
      "image/png": "[encoded data removed]",
      "text/plain": [
       "<Figure size 432x288 with 1 Axes>"
      ]
     },
     "metadata": {
      "needs_background": "light"
     },
     "output_type": "display_data"
    }
   ],
   "source": [
    "m = IntervalMesh(10,2)\n",
    "mesh = ExtrudedMesh(m, 5, extrusion_type='uniform')\n",
    "\n",
    "Vc = mesh.coordinates.function_space()\n",
    "x, y = SpatialCoordinate(mesh)\n",
    "f_mesh = Function(Vc).interpolate(as_vector([x, y + ( 0.25 * x**4 -x**3 + x**2) * (1-y) ] ) )\n",
    "mesh.coordinates.assign(f_mesh)\n",
    "\n",
    "xs = [mesh.coordinates.dat.data[i][0] for i in range(0,66)]\n",
    "ys = [mesh.coordinates.dat.data[i][1] for i in range(0,66)]\n",
    "\n",
    "plt.scatter(xs, ys)\n"
   ]
  },
  {
   "cell_type": "markdown",
   "metadata": {},
   "source": [
    "### 2.) Defining $RT_0$ FEM space on extruded mesh"
   ]
  },
  {
   "cell_type": "code",
   "execution_count": 3,
   "metadata": {},
   "outputs": [],
   "source": [
    "#define RT_0 on extruded meshes\n",
    "\n",
    "CG_1 = FiniteElement(\"CG\", interval, 1)\n",
    "DG_0 = FiniteElement(\"DG\", interval, 0)\n",
    "P1P0 = TensorProductElement(CG_1, DG_0)\n",
    "RT_horiz = HDivElement(P1P0)\n",
    "P0P1 = TensorProductElement(DG_0, CG_1)\n",
    "RT_vert = HDivElement(P0P1)\n",
    "element = RT_horiz + RT_vert\n",
    "\n",
    "Sigma = FunctionSpace(mesh, element)\n",
    "#Sigma = FunctionSpace(mesh, \"RTCF\", 1)\n",
    "VD = FunctionSpace(mesh, \"DG\", 0)\n",
    "\n",
    "def create_RT_0_element(extr_mesh):\n",
    "    CG_1 = FiniteElement(\"CG\", interval, 1)\n",
    "    DG_0 = FiniteElement(\"DG\", interval, 0)\n",
    "    P1P0 = TensorProductElement(CG_1, DG_0)\n",
    "    RT_vert = HDivElement(P1P0)\n",
    "    P0P1 = TensorProductElement(DG_0, CG_1)\n",
    "    RT_horiz = HDivElement(P0P1)\n",
    "    element = RT_horiz + RT_vert\n",
    "\n",
    "    Sigma = FunctionSpace(mesh, element)\n",
    "    \n",
    "    return Sigma"
   ]
  },
  {
   "cell_type": "markdown",
   "metadata": {},
   "source": [
    "### 3.) Define problem (actually Helmholtz eq.) and solve subject to $\\sigma \\cdot n = 0$ on the whole boundary"
   ]
  },
  {
   "cell_type": "markdown",
   "metadata": {},
   "source": [
    "## Hybridized Helmholtz equation"
   ]
  },
  {
   "cell_type": "markdown",
   "metadata": {},
   "source": [
    "(Just Poisson didn't work, the problem semmed to be ill-posed) Now with boundary cnditions $\\sigma \\cdot n = 0$ everywhere"
   ]
  },
  {
   "cell_type": "markdown",
   "metadata": {},
   "source": [
    "Find $(\\sigma, u, \\lambda)$ in $\\hat{\\Sigma} \\times V \\times T$ such that \n",
    "\n",
    "$$\n",
    "\\begin{align}\n",
    "\\int_\\Omega (\\sigma \\cdot \\tau + \\nabla \\cdot \\tau u)\\,\\text{d} x + \\langle [[ \\tau ]], \\lambda \\rangle_{\\partial \\mathcal{T}_h \\setminus \\Gamma_D} &= \n",
    "  \\int_\\Gamma \\tau \\cdot n u\\,\\text{d}s \\quad \\forall \\tau \\in \\hat{\\Sigma}\\\\ \n",
    "\\int_\\Omega (\\nabla\\cdot\\sigma)v + v u\\,\\text{d} x &= - \\int_\\Omega f v\\,\\text{d}x \n",
    "\\quad \\forall v \\in V\\\\\n",
    "\\langle \\gamma, [[ \\sigma ]] \\rangle_{\\partial \\mathcal{T}_h \\setminus \\Gamma_D} &= \\langle \\gamma, g \\rangle_{\\Gamma_N}\\quad \\forall \\gamma \\in T\n",
    "\\end{align}\n",
    "$$\n",
    "\n",
    "With $g = 0$ on the whole boundary we obtain "
   ]
  },
  {
   "cell_type": "code",
   "execution_count": 5,
   "metadata": {
    "scrolled": false
   },
   "outputs": [],
   "source": [
    "Sigmahat = FunctionSpace(mesh, BrokenElement(Sigma.ufl_element()))\n",
    "V = FunctionSpace(mesh, VD.ufl_element())\n",
    "T = FunctionSpace(mesh, FiniteElement(\"HDiv Trace\", mesh.ufl_cell(), degree = 0))\n",
    "W_hybrid = Sigmahat * V * T\n",
    "\n",
    "n = FacetNormal(mesh)\n",
    "sigmahat, uhat, lambdar = TrialFunctions(W_hybrid)\n",
    "tauhat, vhat, gammar = TestFunctions(W_hybrid)\n",
    "\n",
    "f = 10*exp(-100*((x - 1)**2 + (y - 0.5)**2))\n",
    "\n",
    "wh = Function(W_hybrid)\n",
    "\n",
    "a_hybrid = ( inner(sigmahat, tauhat)*dx + div(tauhat)*uhat*dx + div(sigmahat)*vhat*dx +vhat*uhat*dx\n",
    "            + inner(tauhat, n)*lambdar*( ds_b + ds_t + ds_v)\n",
    "            + inner(sigmahat, n)*gammar* (ds_b + ds_t+ ds_v) \n",
    "            + jump(tauhat, n=n)*lambdar('+')*(dS_h + dS_v)\n",
    "            + jump(sigmahat, n=n)*gammar('+')* (dS_h + dS_v)) \n",
    "                                                                   \n",
    "L = -f*vhat*dx\n",
    "\n",
    "scpc_parameters = {\"ksp_type\":\"preonly\", \"pc_type\":\"lu\"}\n",
    "\n",
    "solve(a_hybrid == L, wh, solver_parameters = {\"ksp_type\": \"gmres\",\"mat_type\":\"matfree\", \n",
    "                                              \"pc_type\":\"python\", \"pc_python_type\":\"firedrake.SCPC\", \n",
    "                                              \"condensed_field\":scpc_parameters, \n",
    "                                              \"pc_sc_eliminate_fields\":\"0,1\"})\n",
    "\n",
    "\n",
    "\n"
   ]
  },
  {
   "cell_type": "code",
   "execution_count": null,
   "metadata": {},
   "outputs": [],
   "source": [
    "sigmah, uh, lamdah = wh.split()\n",
    "\n",
    "file2 = File(\"PiolaSCPC.pvd\")\n",
    "file2.write(sigmah, uh)\n",
    "\n",
    "fig, axes = plt.subplots()\n",
    "\n",
    "quiver(sigmah, axes=axes)\n",
    "axes.set_aspect(\"equal\")\n",
    "axes.set_title(\"$\\sigma$\")"
   ]
  }
 ],
 "metadata": {
  "kernelspec": {
   "display_name": "Python 3",
   "language": "python",
   "name": "python3"
  },
  "language_info": {
   "codemirror_mode": {
    "name": "ipython",
    "version": 3
   },
   "file_extension": ".py",
   "mimetype": "text/x-python",
   "name": "python",
   "nbconvert_exporter": "python",
   "pygments_lexer": "ipython3",
   "version": "3.6.9"
  }
 },
 "nbformat": 4,
 "nbformat_minor": 4
}
